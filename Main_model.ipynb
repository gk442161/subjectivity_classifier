{
  "nbformat": 4,
  "nbformat_minor": 0,
  "metadata": {
    "colab": {
      "name": "Main model.ipynb",
      "provenance": [],
      "collapsed_sections": [],
      "include_colab_link": true
    },
    "kernelspec": {
      "display_name": "Python 3",
      "language": "python",
      "name": "python3"
    },
    "language_info": {
      "codemirror_mode": {
        "name": "ipython",
        "version": 3
      },
      "file_extension": ".py",
      "mimetype": "text/x-python",
      "name": "python",
      "nbconvert_exporter": "python",
      "pygments_lexer": "ipython3",
      "version": "3.7.6"
    },
    "accelerator": "GPU"
  },
  "cells": [
    {
      "cell_type": "markdown",
      "metadata": {
        "id": "view-in-github",
        "colab_type": "text"
      },
      "source": [
        "<a href=\"https://colab.research.google.com/github/gk442161/subjectivity_classifier/blob/master/Main_model.ipynb\" target=\"_parent\"><img src=\"https://colab.research.google.com/assets/colab-badge.svg\" alt=\"Open In Colab\"/></a>"
      ]
    },
    {
      "cell_type": "code",
      "metadata": {
        "id": "kaRI3FouA3Py",
        "colab": {
          "base_uri": "https://localhost:8080/"
        },
        "outputId": "3d98ba76-78d6-4f75-8195-b83db8b1d666"
      },
      "source": [
        "from google.colab import drive\n",
        "drive.mount('/content/drive')"
      ],
      "execution_count": null,
      "outputs": [
        {
          "output_type": "stream",
          "text": [
            "Mounted at /content/drive\n"
          ],
          "name": "stdout"
        }
      ]
    },
    {
      "cell_type": "code",
      "metadata": {
        "id": "I_NwCnb0ZqqL"
      },
      "source": [
        "import os\r\n",
        "import sys\r\n",
        "import pandas as pd\r\n",
        "import numpy as np"
      ],
      "execution_count": null,
      "outputs": []
    },
    {
      "cell_type": "code",
      "metadata": {
        "id": "UpzjBT2sF-mf"
      },
      "source": [
        "# !wget http://cs.stanford.edu/people/alecmgo/trainingandtestdata.zip"
      ],
      "execution_count": null,
      "outputs": []
    },
    {
      "cell_type": "code",
      "metadata": {
        "id": "UXFe_aqnCuix"
      },
      "source": [
        "# import zipfile\n",
        "\n",
        "# BASE_DIR = ''\n",
        "# GLOVE_ZIP_FILE_PATH = os.path.join(BASE_DIR,'/content/drive/My Drive/Colab Notebooks/glove.6B.zip')  \n",
        "\n",
        "#---------------------------------------------------------------------------------------------------------------#\n",
        "                  # UNCOMMENT BELOW IF ABOVE DON'T WORK AND COMMENT ABOVE ONE\n",
        "#---------------------------------------------------------------------------------------------------------------#\n",
        "# ! wget http://nlp.stanford.edu/data/glove.6B.zip   \n",
        "# GLOVE_ZIP_FILE_PATH = os.path.join(BASE_DIR,'glove.6B.zip')\n",
        "\n",
        "\n",
        "#---------------------------------------------------------------------------------------------------------------#\n",
        "# STANFORD_DATASET_PATH = os.path.join(BASE_DIR,'trainingandtestdata.zip')\n",
        "\n",
        "# zip_ref = zipfile.ZipFile(STANFORD_DATASET_PATH, 'r')\n",
        "# zip_ref.extractall('stfd_dataset')\n",
        "# zip_ref.close()\n",
        "\n",
        "# zip_ref = zipfile.ZipFile(GLOVE_ZIP_FILE_PATH, 'r')\n",
        "# zip_ref.extractall('glove.6B')\n",
        "# zip_ref.close()\n",
        "\n",
        "\n",
        "# STFD_DIR = os.path.join(BASE_DIR , 'stfd_dataset')\n",
        "# GLOVE_DIR = os.path.join(BASE_DIR, 'glove.6B')"
      ],
      "execution_count": null,
      "outputs": []
    },
    {
      "cell_type": "code",
      "metadata": {
        "id": "lPdx0A3K84iK"
      },
      "source": [
        "\n",
        "# os.mkdir('sub-v-obj')\n",
        "# !cp '/content/drive/My Drive/Final year project/Datasets/training.csv' 'sub-v-obj'\n",
        "\n",
        "# UPLOAD TRAINING.CSV FILE IN sub-v-obj folder \n",
        "\n",
        "# TEXT_DATA_DIR = os.path.join(BASE_DIR, 'sub-v-obj')\n",
        "\n",
        "# embeddings_index = {}\n",
        "# with open(os.path.join(GLOVE_DIR, 'glove.6B.100d.txt')) as f:\n",
        "#     for line in f:\n",
        "#         word, coefs = line.split(maxsplit=1)\n",
        "#         coefs = np.fromstring(coefs, 'f', sep=' ')\n",
        "#         embeddings_index[word] = coefs"
      ],
      "execution_count": null,
      "outputs": []
    },
    {
      "cell_type": "code",
      "metadata": {
        "id": "jGwXGIXvFhXW"
      },
      "source": [
        "\n",
        "\n",
        "from tensorflow.keras.preprocessing.text import Tokenizer\n",
        "from tensorflow.keras.preprocessing.sequence import pad_sequences\n",
        "\n",
        "\n",
        "\n",
        "EMBEDDING_MATRIX_PATH = '/content/drive/MyDrive/Final year project/Datasets/Embedding/main_embedding_matrix_pickle'\n",
        "MAX_SEQUENCE_LENGTH = 1000   \n",
        "MAX_NUM_WORDS = 20000\n",
        "EMBEDDING_DIM = 100\n",
        "VALIDATION_SPLIT = 0.2\n",
        "TRUNCAT_TYPE = 'post'\n",
        "PADDING_TYPE = 'post'\n",
        "oov_tok = \"<OOV>\"  # OUT OF VOCABLARY\n",
        "\n",
        "tokenizer = Tokenizer(num_words=MAX_NUM_WORDS, oov_token=oov_tok)\n",
        "\n",
        "# TODO insert dataset in tokenizer to fit it\n",
        "embedding_df= pd.read_pickle(EMBEDDING_MATRIX_PATH)\n",
        "tokenizer.fit_on_texts(embedding_df.columns)\n",
        "word_index = tokenizer.word_index\n",
        "embeddings_index = embedding_df.to_dict('list')\n",
        "\n"
      ],
      "execution_count": null,
      "outputs": []
    },
    {
      "cell_type": "code",
      "metadata": {
        "id": "uThokp__w1Ad"
      },
      "source": [
        "del embedding_df"
      ],
      "execution_count": null,
      "outputs": []
    },
    {
      "cell_type": "code",
      "metadata": {
        "id": "nXEugAumDGij"
      },
      "source": [
        "# from pandas_tfrecords import pd2tf, tf2pd\r\n",
        "# pd2tf(d, '/content/drive/MyDrive/Final year project/Datasets/main_data/tfrecord')"
      ],
      "execution_count": null,
      "outputs": []
    },
    {
      "cell_type": "code",
      "metadata": {
        "id": "_H0FZ-ot_V0o"
      },
      "source": [
        "data_features = pd.read_pickle('/content/drive/MyDrive/Final year project/Datasets/main_data/main_data_pickle',compression='gzip')\r\n",
        "data_labels = data_features.pop('sentiment')\r\n",
        "# data_features = data_features.pop('sentence')\r\n",
        "del data_features\r\n",
        "\r\n",
        "data_labels = data_labels.to_numpy()\r\n",
        "data_labels = data_labels.reshape(1607264)\r\n",
        "\r\n",
        "from keras.utils.np_utils import to_categorical   \r\n",
        "categorical_labels = to_categorical(data_labels, num_classes=11)"
      ],
      "execution_count": null,
      "outputs": []
    },
    {
      "cell_type": "code",
      "metadata": {
        "id": "5doHPPrBIwng"
      },
      "source": [
        "# tokenized_data = tokenizer.texts_to_sequences(data_features)\r\n",
        "# padded_data= pad_sequences(tokenized_data,maxlen=MAX_SEQUENCE_LENGTH,padding=PADDING_TYPE,truncating=TRUNCAT_TYPE)\r\n",
        "\r\n",
        "\r\n",
        "padded_data = np.load('/content/drive/MyDrive/Final year project/Datasets/main_data/padded_main_data_npy.npy','r')"
      ],
      "execution_count": null,
      "outputs": []
    },
    {
      "cell_type": "code",
      "metadata": {
        "id": "cRThxuqlY1IJ"
      },
      "source": [
        "# np.save('/content/drive/MyDrive/Final year project/Datasets/main_data/padded_main_data_npy',padded_data,False)\r\n"
      ],
      "execution_count": null,
      "outputs": []
    },
    {
      "cell_type": "code",
      "metadata": {
        "id": "vKR0YpIQA-4j"
      },
      "source": [
        "#---------------------------------------------------------------------------------------------------------------#\r\n",
        "                                                # UNDER EVALUATION\r\n",
        "#---------------------------------------------------------------------------------------------------------------#\r\n",
        "# BATCH_INTAKE = 100000\r\n",
        "# from tensorflow.data import Dataset\r\n",
        "# main_ds = Dataset.from_tensor_slices((np.array(padded_data)[:BATCH_INTAKE], data_labels[:BATCH_INTAKE]),)\r\n",
        "# main_ds = main_ds.shuffle(1000, reshuffle_each_iteration=True)\r\n",
        "# main_ds = main_ds.batch(1000)\r\n",
        "# main_ds = main_ds.prefetch(100)\r\n"
      ],
      "execution_count": null,
      "outputs": []
    },
    {
      "cell_type": "code",
      "metadata": {
        "id": "4UWeA8fNRj-k"
      },
      "source": [
        "# from tensorflow.data import Dataset\n",
        "# training_ds = Dataset.from_tensor_slices((np.array(training_padded), np.array(y_train)),)\n",
        "# training_ds = training_ds"
      ],
      "execution_count": null,
      "outputs": []
    },
    {
      "cell_type": "code",
      "metadata": {
        "id": "w2zkyO5q1hYZ"
      },
      "source": [
        "# Create Embedding metrix for Embedding layer\n",
        "num_words = min(MAX_NUM_WORDS, len(word_index) + 1)\n",
        "embedding_matrix = np.zeros((num_words, EMBEDDING_DIM))\n",
        "for word, i in word_index.items():\n",
        "    if i >= MAX_NUM_WORDS:\n",
        "        continue\n",
        "    embedding_vector = embeddings_index.get(word)\n",
        "    if embedding_vector is not None:\n",
        "        # words not found in embedding index will be all-zeros.\n",
        "        embedding_matrix[i] = embedding_vector"
      ],
      "execution_count": null,
      "outputs": []
    },
    {
      "cell_type": "code",
      "metadata": {
        "id": "OHeO4d9J16Nr"
      },
      "source": [
        ""
      ],
      "execution_count": null,
      "outputs": []
    },
    {
      "cell_type": "code",
      "metadata": {
        "id": "OikjXs6tJGjU"
      },
      "source": [
        "from tensorflow.keras import layers , Input, Model , optimizers ,losses"
      ],
      "execution_count": null,
      "outputs": []
    },
    {
      "cell_type": "code",
      "metadata": {
        "id": "dOfjyxXy1lWe"
      },
      "source": [
        "from tensorflow.keras.initializers import Constant\n",
        "\n",
        "\n",
        "# Define Embedding layer\n",
        "embedding_layer = layers.Embedding(num_words,\n",
        "                            EMBEDDING_DIM,\n",
        "                            embeddings_initializer=Constant(embedding_matrix),\n",
        "                            input_length=MAX_SEQUENCE_LENGTH,\n",
        "                            trainable=False)"
      ],
      "execution_count": null,
      "outputs": []
    },
    {
      "cell_type": "code",
      "metadata": {
        "id": "54GEE0YuzuuR"
      },
      "source": [
        ""
      ],
      "execution_count": null,
      "outputs": []
    },
    {
      "cell_type": "markdown",
      "metadata": {
        "id": "tubKBel5LG2_"
      },
      "source": [
        "# TRAINING THE **MODEL**"
      ]
    },
    {
      "cell_type": "code",
      "metadata": {
        "id": "t29HdIKL1f1H"
      },
      "source": [
        "\n",
        "\n",
        "import matplotlib.pyplot as plt\n",
        "\n",
        "# model = tf.keras.models.Sequential()\n",
        "# model.add(tf.keras.Input(shape=(MAX_SEQUENCE_LENGTH ,),dtype='float64'))\n",
        "# model.add(embedding_layer)\n",
        "# model.add(tf.keras.layers.Conv3D(12,(3,3,3),activation='relu'))\n",
        "# embedd = tf.keras.layers.Embedding(vocab_size, embedding_dim, input_length=max_length)(word_input)\n",
        "# cnn  = tf.keras.layers.Conv3D(12,(3,3,3),activation='relu')(embedding_L)\n",
        "# max_pool = tf.keras.layers.MaxPool3D((2,2))\n",
        "# flat = tf.keras.layers.Flatten()(embedding_L)\n",
        "# x = tf.keras.layers.Bidirectional(tf.keras.layers.LSTM(64, return_sequences=True))(GA)\n",
        "# x = tf.keras.layers.Bidirectional(tf.keras.layers.LSTM(64))(x)\n",
        "\n",
        "\n",
        "\n",
        "def train_model(input_ds,output_ds, n_epoch = 50 , n_batch_size=None,call_back=None,validation_data=None):\n",
        "  # Starting the sequence\n",
        "  word_input=Input(shape=(None ,),dtype='int64') \n",
        "  embedding_L =embedding_layer(word_input)\n",
        "  GA = layers.GlobalAveragePooling1D()(embedding_L)\n",
        "\n",
        "  # CNN layers\n",
        "  x = layers.Conv1D(128, 5, activation=\"relu\")(embedding_L)\n",
        "  x = layers.MaxPooling1D(5)(x)\n",
        "  # x = layers.Conv1D(128, 5, activation=\"relu\")(x)\n",
        "  # x = layers.MaxPooling1D(5)(x)\n",
        "  # x = layers.Conv1D(64, 3, activation=\"relu\")(x)\n",
        "  # x = layers.MaxPooling1D(3)(x)\n",
        "\n",
        "  # Define Separate model For LSTM and GRU Than merge it\n",
        "\n",
        "  lstm =layers.LSTM(64,return_sequences=True)(x)\n",
        "  gru = layers.GRU(64,go_backwards=True,return_sequences=True)(x)\n",
        "  concatenated = layers.Concatenate()([lstm,gru])\n",
        "\n",
        "  lstm =layers.LSTM(64,return_sequences=True)(concatenated)\n",
        "  gru = layers.GRU(64,go_backwards=True,return_sequences=True)(concatenated)\n",
        "  concatenated = layers.Concatenate()([lstm,gru])\n",
        "\n",
        "  # Follow the Sequence inputing merged layer to x\n",
        "\n",
        "  GM = layers.GlobalMaxPooling1D()(concatenated)\n",
        "\n",
        "  # Dense Layers\n",
        "  d = layers.Dense(256, activation=\"relu\")(GM)\n",
        "  d = layers.Dense(128, activation='relu' )(d)\n",
        "  d = layers.Dense(64, activation='relu')(d)\n",
        "  d = layers.Dense(32, activation='relu')(d)\n",
        "  d = layers.Dropout(0.5)(d)\n",
        "  ouput = layers.Dense(11 ,activation='softmax')(d)  # 11 for 0 to 10 classes\n",
        "\n",
        "  model = Model(word_input,ouput)\n",
        "\n",
        "\n",
        "                        # Define learning rate for analysis purpose\n",
        "\n",
        "# lr_schedule = tf.keras.optimizers.schedules.ExponentialDecay(\n",
        "#     initial_learning_rate=1e-2,\n",
        "#     decay_steps=1,\n",
        "#     decay_rate=0.9)\n",
        "\n",
        "# Learning obtained after analysis of trained model\n",
        "# ==> (1e-2)*0.9**20\n",
        "\n",
        "                        # Define Optimizer and Compile it \n",
        "  opt = optimizers.Adam(learning_rate=(1e-2)*0.9**20)\n",
        "  model.compile(loss='categorical_crossentropy',optimizer=opt,metrics=['accuracy'])\n",
        "  \n",
        "  history = model.fit(input_ds,output_ds,epochs=n_epoch, verbose=1,batch_size=n_batch_size,callbacks=call_back,validation_data=validation_data)\n",
        "  plt.plot(history.history['accuracy'],'g--', label='accuracy')\n",
        "  plt.plot(history.history['val_accuracy'],'b--', label='val accuracy')\n",
        "  plt.plot(history.history['val_loss'],'r', label='val loss')\n",
        "  plt.plot(history.history['loss'], 'y',label='loss')\n",
        "  plt.legend()\n",
        "  plt.title('batch-size='+str(n_batch_size), pad=-40)\n",
        "  return model\n",
        "# model.summary()"
      ],
      "execution_count": null,
      "outputs": []
    },
    {
      "cell_type": "code",
      "metadata": {
        "id": "KEG3Gcd_mW27"
      },
      "source": [
        "from keras.callbacks import ModelCheckpoint ,EarlyStopping\n",
        "\n",
        "                      # define the checkpoint\n",
        "\n",
        "MODEL_FILE_PATH = os.path.join('/content/drive/MyDrive/Final year project','model_main.h5')\n",
        "\n",
        "stopping = EarlyStopping(\n",
        "    monitor='val_loss', min_delta=0, patience=3, verbose=1,\n",
        "    mode='min', baseline=None, restore_best_weights=True\n",
        "    )\n",
        "\n",
        "checkpoint = ModelCheckpoint(MODEL_FILE_PATH, monitor='loss', verbose=1, save_best_only=True, mode='min')\n",
        "callbacks_list = [checkpoint,stopping]"
      ],
      "execution_count": null,
      "outputs": []
    },
    {
      "cell_type": "code",
      "metadata": {
        "id": "6qqWlbnxCSMB"
      },
      "source": [
        "#---------------------------------------------------------------------------------------------------------------#\n",
        "                                # Analysing for Batch Size\n",
        "#---------------------------------------------------------------------------------------------------------------#\n",
        "\n",
        "# batch_size = [ 16, 32, 64, 128]\n",
        "# for i in range(len(batch_size)):\n",
        "# \t# determine the plot number\n",
        "# \tplot_no = 420 + (i+1)\n",
        "# \tplt.subplot(plot_no)\n",
        "# \t# fit model and plot learning curves for a batch size\n",
        "# \ttrain_model(te, n_batch_size=batch_size[i],n_epoch=10,validation_data=(testing_padded,y_test))\n",
        "# # show learning curves\n",
        "# plt.show()"
      ],
      "execution_count": null,
      "outputs": []
    },
    {
      "cell_type": "code",
      "metadata": {
        "id": "g65dchAtCQwT",
        "colab": {
          "base_uri": "https://localhost:8080/",
          "height": 992
        },
        "outputId": "b8eb21bc-fc26-4a27-f11b-46471bf3c737"
      },
      "source": [
        "BATCH_INTAKE = 400000\n",
        "VALIDATION_INTAKE = 2000\n",
        "BATCH_SIZE = 128\n",
        "EPOCH = 12\n",
        "\n",
        "trained_model= train_model(padded_data[:BATCH_INTAKE],categorical_labels[:BATCH_INTAKE], n_batch_size=BATCH_SIZE,n_epoch=EPOCH,call_back=callbacks_list,\n",
        "                           validation_data=(padded_data[-VALIDATION_INTAKE:],categorical_labels[-VALIDATION_INTAKE:]))\n"
      ],
      "execution_count": 26,
      "outputs": [
        {
          "output_type": "stream",
          "text": [
            "Epoch 1/12\n",
            "3125/3125 [==============================] - 244s 77ms/step - loss: 0.7485 - accuracy: 0.5416 - val_loss: 0.5079 - val_accuracy: 0.7520\n",
            "\n",
            "Epoch 00001: loss did not improve from 0.45682\n",
            "Epoch 2/12\n",
            "3125/3125 [==============================] - 240s 77ms/step - loss: 0.5261 - accuracy: 0.7489 - val_loss: 0.4828 - val_accuracy: 0.7660\n",
            "\n",
            "Epoch 00002: loss did not improve from 0.45682\n",
            "Epoch 3/12\n",
            "3125/3125 [==============================] - 240s 77ms/step - loss: 0.4937 - accuracy: 0.7680 - val_loss: 0.4648 - val_accuracy: 0.7720\n",
            "\n",
            "Epoch 00003: loss did not improve from 0.45682\n",
            "Epoch 4/12\n",
            "3125/3125 [==============================] - 240s 77ms/step - loss: 0.4752 - accuracy: 0.7800 - val_loss: 0.4626 - val_accuracy: 0.7755\n",
            "\n",
            "Epoch 00004: loss did not improve from 0.45682\n",
            "Epoch 5/12\n",
            "3125/3125 [==============================] - 241s 77ms/step - loss: 0.4594 - accuracy: 0.7889 - val_loss: 0.4613 - val_accuracy: 0.7825\n",
            "\n",
            "Epoch 00005: loss did not improve from 0.45682\n",
            "Epoch 6/12\n",
            "3125/3125 [==============================] - 239s 77ms/step - loss: 0.4486 - accuracy: 0.7957 - val_loss: 0.4713 - val_accuracy: 0.7790\n",
            "\n",
            "Epoch 00006: loss improved from 0.45682 to 0.45166, saving model to /content/drive/MyDrive/Final year project/model_main.h5\n",
            "Epoch 7/12\n",
            "3125/3125 [==============================] - 236s 75ms/step - loss: 0.4345 - accuracy: 0.8028 - val_loss: 0.4572 - val_accuracy: 0.7855\n",
            "\n",
            "Epoch 00007: loss improved from 0.45166 to 0.43845, saving model to /content/drive/MyDrive/Final year project/model_main.h5\n",
            "Epoch 8/12\n",
            "3125/3125 [==============================] - 236s 75ms/step - loss: 0.4238 - accuracy: 0.8074 - val_loss: 0.4635 - val_accuracy: 0.7820\n",
            "\n",
            "Epoch 00008: loss improved from 0.43845 to 0.42793, saving model to /content/drive/MyDrive/Final year project/model_main.h5\n",
            "Epoch 9/12\n",
            "3125/3125 [==============================] - 234s 75ms/step - loss: 0.4134 - accuracy: 0.8132 - val_loss: 0.4627 - val_accuracy: 0.7820\n",
            "\n",
            "Epoch 00009: loss improved from 0.42793 to 0.41826, saving model to /content/drive/MyDrive/Final year project/model_main.h5\n",
            "Epoch 10/12\n",
            "3125/3125 [==============================] - 233s 75ms/step - loss: 0.4044 - accuracy: 0.8169 - val_loss: 0.4647 - val_accuracy: 0.7760\n",
            "\n",
            "Epoch 00010: loss improved from 0.41826 to 0.40996, saving model to /content/drive/MyDrive/Final year project/model_main.h5\n",
            "Restoring model weights from the end of the best epoch.\n",
            "Epoch 00010: early stopping\n"
          ],
          "name": "stdout"
        },
        {
          "output_type": "display_data",
          "data": {
            "image/png": "[encoded data removed]",
            "text/plain": [
              "<Figure size 432x288 with 1 Axes>"
            ]
          },
          "metadata": {
            "tags": [],
            "needs_background": "light"
          }
        }
      ]
    },
    {
      "cell_type": "code",
      "metadata": {
        "id": "mae7tI-c6oQq",
        "colab": {
          "base_uri": "https://localhost:8080/"
        },
        "outputId": "156c6658-e323-42e6-b62d-d628ec66ed2f"
      },
      "source": [
        "result = trained_model.evaluate(padded_data[BATCH_INTAKE:100+BATCH_INTAKE],categorical_labels[BATCH_INTAKE:100+BATCH_INTAKE])\n",
        "result"
      ],
      "execution_count": 27,
      "outputs": [
        {
          "output_type": "stream",
          "text": [
            "4/4 [==============================] - 0s 26ms/step - loss: 0.5154 - accuracy: 0.7300\n"
          ],
          "name": "stdout"
        },
        {
          "output_type": "execute_result",
          "data": {
            "text/plain": [
              "[0.5154318809509277, 0.7300000190734863]"
            ]
          },
          "metadata": {
            "tags": []
          },
          "execution_count": 27
        }
      ]
    },
    {
      "cell_type": "code",
      "metadata": {
        "id": "9uMErQKGIXKp",
        "colab": {
          "base_uri": "https://localhost:8080/"
        },
        "outputId": "9214478c-5734-4b5f-94b4-fddf5c386f7a"
      },
      "source": [
        "text = [\"I am sad\",\"I am happy\",\"this boy is bad\"]\n",
        "text_seq = tokenizer.texts_to_sequences(text)\n",
        "text_padded = pad_sequences(text_seq, maxlen=MAX_SEQUENCE_LENGTH, padding=PADDING_TYPE, truncating=TRUNCAT_TYPE)\n",
        "pred_val=trained_model.predict(text_padded)\n",
        "pred_val=np.array(list(map(lambda x: x.argmax(),pred_val)))\n",
        "print('predicted sentiment',pred_val)"
      ],
      "execution_count": 28,
      "outputs": [
        {
          "output_type": "stream",
          "text": [
            "predicted sentiment [ 0 10  0]\n"
          ],
          "name": "stdout"
        }
      ]
    },
    {
      "cell_type": "markdown",
      "metadata": {
        "id": "nMezqG62KGyN"
      },
      "source": [
        "# **ONLY FOR LOADING AND TRAINING**"
      ]
    },
    {
      "cell_type": "code",
      "metadata": {
        "id": "LuO0eTseKzq3"
      },
      "source": [
        ""
      ],
      "execution_count": null,
      "outputs": []
    },
    {
      "cell_type": "code",
      "metadata": {
        "id": "W9seQ70Hm1CL"
      },
      "source": [
        "from keras.callbacks import ModelCheckpoint,EarlyStopping\n",
        "from tensorflow.keras import models\n",
        "MODEL_FILE_PATH = '/content/drive/MyDrive/Final year project/model_main.h5'\n",
        "UPDATED_MODEL_FILE_PATH = '/content/drive/MyDrive/Final year project/updated_model_main.h5'\n",
        "\n",
        "# load the model\n",
        "loaded_model = models.load_model(MODEL_FILE_PATH)\n",
        "\n",
        "\n",
        "# fit the model\n",
        "stopping = EarlyStopping(\n",
        "    monitor='val_loss', min_delta=0, patience=3, verbose=1,\n",
        "    mode='min', baseline=None, restore_best_weights=True\n",
        "    )\n",
        "\n",
        "checkpoint = ModelCheckpoint(UPDATED_MODEL_FILE_PATH, monitor='loss', verbose=1, save_best_only=True, mode='min')\n",
        "callbacks_list = [checkpoint,stopping]\n"
      ],
      "execution_count": 29,
      "outputs": []
    },
    {
      "cell_type": "code",
      "metadata": {
        "colab": {
          "base_uri": "https://localhost:8080/"
        },
        "id": "D1zQmcKAdWRg",
        "outputId": "5a7e7446-0272-4f39-b64d-08da02799680"
      },
      "source": [
        "text = [\"I am sad\",\"You are good person\",\"this boy is bad\"]\r\n",
        "text_seq = tokenizer.texts_to_sequences(text)\r\n",
        "text_padded = pad_sequences(text_seq, maxlen=MAX_SEQUENCE_LENGTH, padding=PADDING_TYPE, truncating=TRUNCAT_TYPE)\r\n",
        "pred_val=loaded_model.predict(text_padded)\r\n",
        "pred_val=np.array(list(map(lambda x: x.argmax(),pred_val)))\r\n",
        "print('predicted sentiment',pred_val)"
      ],
      "execution_count": 30,
      "outputs": [
        {
          "output_type": "stream",
          "text": [
            "predicted sentiment [ 0 10  0]\n"
          ],
          "name": "stdout"
        }
      ]
    },
    {
      "cell_type": "code",
      "metadata": {
        "id": "7ZEZIUppGhdi",
        "colab": {
          "base_uri": "https://localhost:8080/"
        },
        "outputId": "810aa6b1-604a-4637-e548-c2796110744a"
      },
      "source": [
        "START_BATCH_INTAKE = 400000\n",
        "END_BATCH_INTAKE   = 800000\n",
        "VALIDATION_INTAKE  = 5000\n",
        "BATCH_SIZE = 128\n",
        "EPOCH = 12\n",
        "history= loaded_model.fit(padded_data[START_BATCH_INTAKE:END_BATCH_INTAKE ],\n",
        "                          categorical_labels[START_BATCH_INTAKE:END_BATCH_INTAKE ],\n",
        "                          validation_data=(padded_data[-VALIDATION_INTAKE:],\n",
        "                                           categorical_labels[-VALIDATION_INTAKE:]),\n",
        "                          batch_size= BATCH_SIZE,\n",
        "                          epochs=EPOCH, callbacks=callbacks_list)"
      ],
      "execution_count": 31,
      "outputs": [
        {
          "output_type": "stream",
          "text": [
            "Epoch 1/12\n",
            "3125/3125 [==============================] - 260s 77ms/step - loss: 0.4909 - accuracy: 0.7701 - val_loss: 0.4671 - val_accuracy: 0.7746\n",
            "\n",
            "Epoch 00001: loss improved from inf to 0.49086, saving model to /content/drive/MyDrive/Final year project/updated_model_main.h5\n",
            "Epoch 2/12\n",
            "3125/3125 [==============================] - 235s 75ms/step - loss: 0.4727 - accuracy: 0.7795 - val_loss: 0.4674 - val_accuracy: 0.7794\n",
            "\n",
            "Epoch 00002: loss improved from 0.49086 to 0.47268, saving model to /content/drive/MyDrive/Final year project/updated_model_main.h5\n",
            "Epoch 3/12\n",
            "3125/3125 [==============================] - 235s 75ms/step - loss: 0.4593 - accuracy: 0.7871 - val_loss: 0.4664 - val_accuracy: 0.7768\n",
            "\n",
            "Epoch 00003: loss improved from 0.47268 to 0.45926, saving model to /content/drive/MyDrive/Final year project/updated_model_main.h5\n",
            "Epoch 4/12\n",
            "3125/3125 [==============================] - 232s 74ms/step - loss: 0.4471 - accuracy: 0.7938 - val_loss: 0.4643 - val_accuracy: 0.7802\n",
            "\n",
            "Epoch 00004: loss improved from 0.45926 to 0.44711, saving model to /content/drive/MyDrive/Final year project/updated_model_main.h5\n",
            "Epoch 5/12\n",
            "3125/3125 [==============================] - 232s 74ms/step - loss: 0.4357 - accuracy: 0.7998 - val_loss: 0.4746 - val_accuracy: 0.7752\n",
            "\n",
            "Epoch 00005: loss improved from 0.44711 to 0.43566, saving model to /content/drive/MyDrive/Final year project/updated_model_main.h5\n",
            "Epoch 6/12\n",
            "3125/3125 [==============================] - 232s 74ms/step - loss: 0.4257 - accuracy: 0.8052 - val_loss: 0.4795 - val_accuracy: 0.7782\n",
            "\n",
            "Epoch 00006: loss improved from 0.43566 to 0.42568, saving model to /content/drive/MyDrive/Final year project/updated_model_main.h5\n",
            "Epoch 7/12\n",
            "3125/3125 [==============================] - 234s 75ms/step - loss: 0.4157 - accuracy: 0.8104 - val_loss: 0.4821 - val_accuracy: 0.7734\n",
            "\n",
            "Epoch 00007: loss improved from 0.42568 to 0.41568, saving model to /content/drive/MyDrive/Final year project/updated_model_main.h5\n",
            "Restoring model weights from the end of the best epoch.\n",
            "Epoch 00007: early stopping\n"
          ],
          "name": "stdout"
        }
      ]
    },
    {
      "cell_type": "code",
      "metadata": {
        "id": "MVztoDKq0fmW",
        "colab": {
          "base_uri": "https://localhost:8080/",
          "height": 295
        },
        "outputId": "4239f552-5366-4d99-9707-36d26f6f7b4b"
      },
      "source": [
        " import matplotlib.pyplot as plt\r\n",
        "plt.plot(history.history['accuracy'],'g--', label='accuracy')\r\n",
        "plt.plot(history.history['val_accuracy'],'b--', label='val accuracy')\r\n",
        "plt.plot(history.history['val_loss'],'r', label='val loss')\r\n",
        "plt.plot(history.history['loss'], 'y',label='loss')\r\n",
        "plt.legend()\r\n",
        "plt.title('BATCH SIZE - '+str(BATCH_SIZE), pad=-40)"
      ],
      "execution_count": 35,
      "outputs": [
        {
          "output_type": "execute_result",
          "data": {
            "text/plain": [
              "Text(0.5, 1.0, 'BATCH SIZE - 128')"
            ]
          },
          "metadata": {
            "tags": []
          },
          "execution_count": 35
        },
        {
          "output_type": "display_data",
          "data": {
            "image/png": "[encoded data removed]",
            "text/plain": [
              "<Figure size 432x288 with 1 Axes>"
            ]
          },
          "metadata": {
            "tags": [],
            "needs_background": "light"
          }
        }
      ]
    },
    {
      "cell_type": "code",
      "metadata": {
        "id": "e_wcXNa2m5Oj"
      },
      "source": [
        "\r\n",
        "UPDATED_MODEL_FILE_PATH_2 = '/content/drive/MyDrive/Final year project/updated_model_main_2.h5'\r\n",
        "\r\n",
        "# fit the model\r\n",
        "stopping = EarlyStopping(\r\n",
        "    monitor='val_loss', min_delta=0, patience=3, verbose=2,\r\n",
        "    mode='min', baseline=None, restore_best_weights=True\r\n",
        "    )\r\n",
        "\r\n",
        "checkpoint = ModelCheckpoint(UPDATED_MODEL_FILE_PATH_2, monitor='loss', verbose=1, save_best_only=True, mode='min')\r\n",
        "callbacks_list = [checkpoint,stopping]"
      ],
      "execution_count": 39,
      "outputs": []
    },
    {
      "cell_type": "code",
      "metadata": {
        "id": "Uolu5fuADeY7",
        "colab": {
          "base_uri": "https://localhost:8080/"
        },
        "outputId": "4d2cca01-ce7d-4930-cfe3-55356a830963"
      },
      "source": [
        "START_BATCH_INTAKE = 1200000\r\n",
        "END_BATCH_INTAKE   = 1600000\r\n",
        "VALIDATION_INTAKE  = 5000\r\n",
        "BATCH_SIZE = 32\r\n",
        "EPOCH = 12\r\n",
        "history= loaded_model.fit(padded_data[START_BATCH_INTAKE:END_BATCH_INTAKE ],\r\n",
        "                          categorical_labels[START_BATCH_INTAKE:END_BATCH_INTAKE ],\r\n",
        "                          validation_data=(padded_data[-VALIDATION_INTAKE:],\r\n",
        "                                           categorical_labels[-VALIDATION_INTAKE:]),\r\n",
        "                          batch_size= BATCH_SIZE,\r\n",
        "                          epochs=EPOCH, callbacks=callbacks_list)"
      ],
      "execution_count": 40,
      "outputs": [
        {
          "output_type": "stream",
          "text": [
            "Epoch 1/12\n",
            "12500/12500 [==============================] - 460s 36ms/step - loss: 0.4860 - accuracy: 0.7734 - val_loss: 0.4608 - val_accuracy: 0.7844\n",
            "\n",
            "Epoch 00001: loss improved from inf to 0.48605, saving model to /content/drive/MyDrive/Final year project/updated_model_main_2.h5\n",
            "Epoch 2/12\n",
            "12500/12500 [==============================] - 433s 35ms/step - loss: 0.4722 - accuracy: 0.7805 - val_loss: 0.4604 - val_accuracy: 0.7858\n",
            "\n",
            "Epoch 00002: loss improved from 0.48605 to 0.47224, saving model to /content/drive/MyDrive/Final year project/updated_model_main_2.h5\n",
            "Epoch 3/12\n",
            "12500/12500 [==============================] - 449s 36ms/step - loss: 0.4634 - accuracy: 0.7860 - val_loss: 0.4574 - val_accuracy: 0.7870\n",
            "\n",
            "Epoch 00003: loss improved from 0.47224 to 0.46338, saving model to /content/drive/MyDrive/Final year project/updated_model_main_2.h5\n",
            "Epoch 4/12\n",
            "12500/12500 [==============================] - 452s 36ms/step - loss: 0.4561 - accuracy: 0.7900 - val_loss: 0.4549 - val_accuracy: 0.7814\n",
            "\n",
            "Epoch 00004: loss improved from 0.46338 to 0.45613, saving model to /content/drive/MyDrive/Final year project/updated_model_main_2.h5\n",
            "Epoch 5/12\n",
            "12500/12500 [==============================] - 452s 36ms/step - loss: 0.4508 - accuracy: 0.7927 - val_loss: 0.4586 - val_accuracy: 0.7824\n",
            "\n",
            "Epoch 00005: loss improved from 0.45613 to 0.45083, saving model to /content/drive/MyDrive/Final year project/updated_model_main_2.h5\n",
            "Epoch 6/12\n",
            "12500/12500 [==============================] - 452s 36ms/step - loss: 0.4447 - accuracy: 0.7962 - val_loss: 0.4607 - val_accuracy: 0.7822\n",
            "\n",
            "Epoch 00006: loss improved from 0.45083 to 0.44471, saving model to /content/drive/MyDrive/Final year project/updated_model_main_2.h5\n",
            "Epoch 7/12\n",
            "12500/12500 [==============================] - 450s 36ms/step - loss: 0.4406 - accuracy: 0.7985 - val_loss: 0.4677 - val_accuracy: 0.7876\n",
            "\n",
            "Epoch 00007: loss improved from 0.44471 to 0.44058, saving model to /content/drive/MyDrive/Final year project/updated_model_main_2.h5\n",
            "Restoring model weights from the end of the best epoch.\n",
            "Epoch 00007: early stopping\n"
          ],
          "name": "stdout"
        }
      ]
    },
    {
      "cell_type": "code",
      "metadata": {
        "colab": {
          "base_uri": "https://localhost:8080/",
          "height": 295
        },
        "id": "_OEyQokun1TM",
        "outputId": "5cf0c215-29fb-4cb4-96b1-0a4c98b3c85f"
      },
      "source": [
        "plt.plot(history.history['accuracy'],'g--', label='accuracy')\r\n",
        "plt.plot(history.history['val_accuracy'],'b--', label='val accuracy')\r\n",
        "plt.plot(history.history['val_loss'],'r', label='val loss')\r\n",
        "plt.plot(history.history['loss'], 'y',label='loss')\r\n",
        "plt.legend()\r\n",
        "plt.title('BATCH SIZE - '+str(BATCH_SIZE), pad=-40)"
      ],
      "execution_count": 38,
      "outputs": [
        {
          "output_type": "execute_result",
          "data": {
            "text/plain": [
              "Text(0.5, 1.0, 'BATCH SIZE - 64')"
            ]
          },
          "metadata": {
            "tags": []
          },
          "execution_count": 38
        },
        {
          "output_type": "display_data",
          "data": {
            "image/png": "[encoded data removed]",
            "text/plain": [
              "<Figure size 432x288 with 1 Axes>"
            ]
          },
          "metadata": {
            "tags": [],
            "needs_background": "light"
          }
        }
      ]
    },
    {
      "cell_type": "code",
      "metadata": {
        "colab": {
          "base_uri": "https://localhost:8080/",
          "height": 295
        },
        "id": "hMWRmne3xNiV",
        "outputId": "48f21b87-357f-407c-e9db-18d3795cf126"
      },
      "source": [
        "plt.plot(history.history['accuracy'],'g--', label='accuracy')\r\n",
        "plt.plot(history.history['val_accuracy'],'b--', label='val accuracy')\r\n",
        "plt.plot(history.history['val_loss'],'r', label='val loss')\r\n",
        "plt.plot(history.history['loss'], 'y',label='loss')\r\n",
        "plt.legend()\r\n",
        "plt.title('BATCH SIZE - '+str(BATCH_SIZE), pad=-40)"
      ],
      "execution_count": 41,
      "outputs": [
        {
          "output_type": "execute_result",
          "data": {
            "text/plain": [
              "Text(0.5, 1.0, 'BATCH SIZE - 32')"
            ]
          },
          "metadata": {
            "tags": []
          },
          "execution_count": 41
        },
        {
          "output_type": "display_data",
          "data": {
            "image/png": "[encoded data removed]",
            "text/plain": [
              "<Figure size 432x288 with 1 Axes>"
            ]
          },
          "metadata": {
            "tags": [],
            "needs_background": "light"
          }
        }
      ]
    },
    {
      "cell_type": "code",
      "metadata": {
        "id": "6lx1obfqQqEJ"
      },
      "source": [
        ""
      ],
      "execution_count": null,
      "outputs": []
    },
    {
      "cell_type": "markdown",
      "metadata": {
        "id": "ouvY6sr-Qqtr"
      },
      "source": [
        "# INPUT **PIPELINE**"
      ]
    },
    {
      "cell_type": "code",
      "metadata": {
        "id": "njjxTK0ICtA4"
      },
      "source": [
        "# TRAINED MODEL \r\n",
        "TRAINED_MODEL_PATH_H5 = '/content/drive/MyDrive/Final year project/Model/trained_model_h5'\r\n",
        "TRAINED_MODEL_PATH_TF = '/content/drive/MyDrive/Final year project/Model/trained_model_tf'\r\n",
        "# loaded_model.save('/content/drive/MyDrive/Final year project/Model/trained_model_h5',save_format='h5')\r\n",
        "\r\n",
        "#TRAINED MODEL WEIGHTS\r\n",
        "TRAINED_MODEL_WEIGHT_H5 = '/content/drive/MyDrive/Final year project/Model/weight_h5.h5'\r\n",
        "TRAINED_MODEL_WEIGHT_CHECKPOINT = '/content/drive/MyDrive/Final year project/Model/Weight_checkpoint/trained_model_weight_checkpoint'\r\n",
        "# loaded_model.save_weights('/content/drive/MyDrive/Final year project/Model/weight_h5.h5')"
      ],
      "execution_count": 50,
      "outputs": []
    },
    {
      "cell_type": "code",
      "metadata": {
        "id": "dDUBVJZjHMAo"
      },
      "source": [
        "def sentiment_predict(trained_model,input_data,tokenizer,):\r\n",
        "  TRUNCAT_TYPE = 'post'\r\n",
        "  PADDING_TYPE = 'post'\r\n",
        "  MAX_SEQUENCE_LENGTH = 1000   \r\n",
        "  text_seq = tokenizer.texts_to_sequences(input_data)\r\n",
        "  text_padded = pad_sequences(text_seq, maxlen=MAX_SEQUENCE_LENGTH, padding=PADDING_TYPE, truncating=TRUNCAT_TYPE)\r\n",
        "  pred_val=trained_model.predict(text_padded)\r\n",
        "  pred_val=np.array(list(map(lambda x: x.argmax(),pred_val)))\r\n",
        "  return pred_val\r\n",
        "\r\n"
      ],
      "execution_count": 53,
      "outputs": []
    },
    {
      "cell_type": "code",
      "metadata": {
        "id": "vlM9CNIiQBb9"
      },
      "source": [
        "from tensorflow.keras.preprocessing.text import Tokenizer\r\n",
        "from tensorflow.keras.preprocessing.sequence import pad_sequences\r\n",
        "\r\n",
        "EMBEDDING_MATRIX_PATH = '/content/drive/MyDrive/Final year project/Datasets/Embedding/main_embedding_matrix_pickle'\r\n",
        "MAX_NUM_WORDS = 20000\r\n",
        "oov_tok = \"<OOV>\"  # OUT OF VOCABLARY\r\n",
        "tokenizer = Tokenizer(num_words=MAX_NUM_WORDS, oov_token=oov_tok)\r\n",
        "# TODO insert dataset in tokenizer to fit it\r\n",
        "embedding_df= pd.read_pickle(EMBEDDING_MATRIX_PATH)\r\n",
        "tokenizer.fit_on_texts(embedding_df.columns)\r\n",
        "del embedding_df\r\n",
        "\r\n",
        "\r\n",
        "from tensorflow.keras import models\r\n",
        "new_model = models.load_model(TRAINED_MODEL_PATH_H5)"
      ],
      "execution_count": null,
      "outputs": []
    },
    {
      "cell_type": "code",
      "metadata": {
        "colab": {
          "base_uri": "https://localhost:8080/"
        },
        "id": "21WwqzGGO0bu",
        "outputId": "b045f8c4-6cfb-442e-d7b2-02f4171db285"
      },
      "source": [
        "print(sentiment_predict(new_model,['raju enjoyed the party held at his office'],tokenizer))"
      ],
      "execution_count": 60,
      "outputs": [
        {
          "output_type": "stream",
          "text": [
            "[10]\n"
          ],
          "name": "stdout"
        }
      ]
    },
    {
      "cell_type": "code",
      "metadata": {
        "id": "F6uHDaLVP2aF"
      },
      "source": [
        ""
      ],
      "execution_count": null,
      "outputs": []
    }
  ]
}